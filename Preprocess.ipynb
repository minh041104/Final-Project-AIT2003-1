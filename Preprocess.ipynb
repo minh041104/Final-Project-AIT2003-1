{
  "nbformat": 4,
  "nbformat_minor": 0,
  "metadata": {
    "colab": {
      "provenance": [],
      "authorship_tag": "ABX9TyOvCv8dai6PowJftZytw0J0",
      "include_colab_link": true
    },
    "kernelspec": {
      "name": "python3",
      "display_name": "Python 3"
    },
    "language_info": {
      "name": "python"
    }
  },
  "cells": [
    {
      "cell_type": "markdown",
      "metadata": {
        "id": "view-in-github",
        "colab_type": "text"
      },
      "source": [
        "<a href=\"https://colab.research.google.com/github/minh041104/Final-Project-AIT2003-1/blob/main/Preprocess.ipynb\" target=\"_parent\"><img src=\"https://colab.research.google.com/assets/colab-badge.svg\" alt=\"Open In Colab\"/></a>"
      ]
    },
    {
      "cell_type": "code",
      "execution_count": 1,
      "metadata": {
        "id": "cmssF-z7c9xf"
      },
      "outputs": [],
      "source": [
        "import pandas as pd\n",
        "import numpy as np"
      ]
    },
    {
      "cell_type": "markdown",
      "source": [
        "**Xem qua dữ liệu thô chưa được xử lí**"
      ],
      "metadata": {
        "id": "LSTn4ZQcdnbx"
      }
    },
    {
      "cell_type": "code",
      "source": [
        "path=\"thongtinchinhphu.csv\""
      ],
      "metadata": {
        "id": "iQ93bOONdFMo"
      },
      "execution_count": 2,
      "outputs": []
    },
    {
      "cell_type": "code",
      "source": [
        "raw_df = pd.read_csv('thongtinchinhphu.csv')\n",
        "raw_df.info()"
      ],
      "metadata": {
        "id": "eQ_yXag1dPVD"
      },
      "execution_count": null,
      "outputs": []
    },
    {
      "cell_type": "markdown",
      "source": [
        "**Xóa những cột không cần thiết cho việc phân tích**"
      ],
      "metadata": {
        "id": "7FMRe_6zd2Bq"
      }
    },
    {
      "cell_type": "code",
      "source": [
        "raw_df.dropna(axis = 1, thresh = 30, inplace = True)\n",
        "raw_df.info()"
      ],
      "metadata": {
        "id": "U7m9MzhldTk8"
      },
      "execution_count": null,
      "outputs": []
    },
    {
      "cell_type": "markdown",
      "source": [
        "**Giữ lại những cột quan trọng phù hợp cho mục đích phân tích**"
      ],
      "metadata": {
        "id": "-M2-A8V7eEKQ"
      }
    },
    {
      "cell_type": "code",
      "source": [
        "selected_columns = ['post_id', 'post_text', 'time', 'comments', 'comments_full', 'shares', 'post_url', 'reactors', 'reactions', 'reaction_count', 'fetched_time']\n",
        "raw_df = raw_df[selected_columns]\n",
        "raw_df.info()"
      ],
      "metadata": {
        "id": "1cbAvFJxdTnx"
      },
      "execution_count": null,
      "outputs": []
    },
    {
      "cell_type": "markdown",
      "source": [
        "**Chuyển đổi kiểu dữ liệu cho phù hợp**"
      ],
      "metadata": {
        "id": "6lPik4vqeIyx"
      }
    },
    {
      "cell_type": "code",
      "source": [
        "raw_df['post_id'] = raw_df['post_id'].astype('string')\n",
        "raw_df['post_text'] = raw_df['post_text'].astype('string')\n",
        "raw_df['post_url'] = raw_df['post_url'].astype('string')\n",
        "raw_df['reactions'] = raw_df['reactions'].astype('string')\n",
        "raw_df['time'] = pd.to_datetime(raw_df['time'])\n",
        "raw_df['fetched_time'] = pd.to_datetime(raw_df['fetched_time'])\n",
        "raw_df.info()"
      ],
      "metadata": {
        "id": "W_XYy8ybdTqJ"
      },
      "execution_count": null,
      "outputs": []
    },
    {
      "cell_type": "markdown",
      "source": [
        "**Xóa dữ liệu không cần thiết**"
      ],
      "metadata": {
        "id": "OCHsMDi_eMtd"
      }
    },
    {
      "cell_type": "code",
      "source": [
        "raw_df[raw_df[\"reactors\"].isnull()].index"
      ],
      "metadata": {
        "id": "DJKikHaPdTsW"
      },
      "execution_count": null,
      "outputs": []
    },
    {
      "cell_type": "code",
      "source": [
        "index_to_drop = raw_df[raw_df[\"reactors\"].isnull()].index\n",
        "raw_df.drop(index_to_drop, inplace=True)\n",
        "raw_df.info()"
      ],
      "metadata": {
        "id": "b1ELr7nIdTu0"
      },
      "execution_count": null,
      "outputs": []
    },
    {
      "cell_type": "markdown",
      "source": [
        "**Xử lý dữ liệu bị lặp lại**"
      ],
      "metadata": {
        "id": "1zEt0EPfeR_q"
      }
    },
    {
      "cell_type": "code",
      "source": [
        "raw_df.drop_duplicates(subset= 'post_id', inplace= True)\n",
        "raw_df.info()"
      ],
      "metadata": {
        "id": "eip5-nUmdTxH"
      },
      "execution_count": null,
      "outputs": []
    },
    {
      "cell_type": "markdown",
      "source": [
        "**Điền dữ liệu bị thiếu**"
      ],
      "metadata": {
        "id": "_iALyYGueWhD"
      }
    },
    {
      "cell_type": "code",
      "source": [
        "import ast\n",
        "# Định nghĩa hàm để thêm các key còn thiếu và đặt giá trị là 0\n",
        "def fill_missing_keys(reactions_str):\n",
        "    try:\n",
        "        reactions_dict = ast.literal_eval(reactions_str)\n",
        "    except (ValueError, SyntaxError):\n",
        "        # Xử lý nếu không thể chuyển đổi thành từ điển\n",
        "        reactions_dict = {}\n",
        "\n",
        "    all_keys = ['thích', 'yêu thích', 'haha', 'wow', 'thương thương', 'buồn', 'phẫn nộ']\n",
        "    return {key: reactions_dict.get(key, 0) for key in all_keys}\n",
        "\n",
        "# Áp dụng hàm cho cột 'reactions' và điền thiếu dữ liệu\n",
        "raw_df['reactions'] = raw_df['reactions'].apply(lambda x: fill_missing_keys(x))\n",
        "\n",
        "# Hiển thị cột reactions sau khi điền dữ liệu bị thiếu\n",
        "raw_df['reactions'].value_counts()"
      ],
      "metadata": {
        "id": "ifNJbe4EdeCk"
      },
      "execution_count": null,
      "outputs": []
    },
    {
      "cell_type": "markdown",
      "source": [
        "**Thêm một số cột để hỗ trợ cho việc phân tích**"
      ],
      "metadata": {
        "id": "VzBuIAisec3D"
      }
    },
    {
      "cell_type": "code",
      "source": [
        "# Sử dụng json_normalize để tách từng key thành các cột riêng biệt\n",
        "reactions_normalized = pd.json_normalize(raw_df['reactions'])\n",
        "\n",
        "# Ghép DataFrame mới vào DataFrame cũ\n",
        "raw_df = pd.concat([raw_df, reactions_normalized], axis=1)\n",
        "raw_df.info()"
      ],
      "metadata": {
        "id": "RsYInkLmdeE9"
      },
      "execution_count": null,
      "outputs": []
    },
    {
      "cell_type": "markdown",
      "source": [
        "**Đổi tên cột sang tiếng anh**"
      ],
      "metadata": {
        "id": "U3XecdFUemuv"
      }
    },
    {
      "cell_type": "code",
      "source": [
        "raw_df.rename(columns={\n",
        "'thích': 'like',\n",
        "'yêu thích': 'love',\n",
        "'thương thương': 'care',\n",
        "'buồn': 'sad',\n",
        "'phẫn nộ': 'angry'}, inplace=True)"
      ],
      "metadata": {
        "id": "fdaNb1bQdeHL"
      },
      "execution_count": null,
      "outputs": []
    },
    {
      "cell_type": "markdown",
      "source": [
        "**Thời gian lúc mới đăng bài đến khi dữ liệu được thu thập**"
      ],
      "metadata": {
        "id": "7LE21E2QeqkX"
      }
    },
    {
      "cell_type": "code",
      "source": [
        "raw_df['time_difference'] = raw_df['fetched_time'] - raw_df['time']\n",
        "raw_df.info()"
      ],
      "metadata": {
        "id": "r3FF5S20deJk"
      },
      "execution_count": null,
      "outputs": []
    },
    {
      "cell_type": "markdown",
      "source": [
        "**Lưu dữ liệu đã được làm sạch**"
      ],
      "metadata": {
        "id": "vnaSeS6retPa"
      }
    },
    {
      "cell_type": "code",
      "source": [
        "raw_df.to_csv('clean_df.csv', index=False)"
      ],
      "metadata": {
        "id": "alV9PCFwdjZT"
      },
      "execution_count": null,
      "outputs": []
    }
  ]
}