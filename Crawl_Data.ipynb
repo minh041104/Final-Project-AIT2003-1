{
  "nbformat": 4,
  "nbformat_minor": 0,
  "metadata": {
    "colab": {
      "provenance": [],
      "authorship_tag": "ABX9TyOOt5wPgDbE2rv81TuZLk2d",
      "include_colab_link": true
    },
    "kernelspec": {
      "name": "python3",
      "display_name": "Python 3"
    },
    "language_info": {
      "name": "python"
    }
  },
  "cells": [
    {
      "cell_type": "markdown",
      "metadata": {
        "id": "view-in-github",
        "colab_type": "text"
      },
      "source": [
        "<a href=\"https://colab.research.google.com/github/minh041104/Final-Project-AIT2003-1/blob/main/Crawl_Data.ipynb\" target=\"_parent\"><img src=\"https://colab.research.google.com/assets/colab-badge.svg\" alt=\"Open In Colab\"/></a>"
      ]
    },
    {
      "cell_type": "code",
      "source": [
        "pip install facebook_scraper"
      ],
      "metadata": {
        "id": "QgfzLkAAN-bK"
      },
      "execution_count": null,
      "outputs": []
    },
    {
      "cell_type": "code",
      "execution_count": 3,
      "metadata": {
        "id": "p2DlBKj3Nkng"
      },
      "outputs": [],
      "source": [
        "from facebook_scraper import get_posts\n",
        "import pandas as pd\n",
        "import numpy as np"
      ]
    },
    {
      "cell_type": "code",
      "source": [
        "FANPAGE_LINK = \"thongtinchinhphu\"\n",
        "FOLDER_PATH = \"Data/\"\n",
        "COOKIE_PATH = \"./cookies.txt\"\n",
        "PAGES_NUMBER = 200 # Number of pages to crawl"
      ],
      "metadata": {
        "id": "CgvWYqtaN72n"
      },
      "execution_count": null,
      "outputs": []
    },
    {
      "cell_type": "code",
      "source": [
        "COUNT = 0\n",
        "\n",
        "post_list = []\n",
        "for post in get_posts(FANPAGE_LINK,\n",
        "                    options={\"comments\": True, \"reactions\": True, \"allow_extra_requests\": True},\n",
        "                    extra_info=True, pages=PAGES_NUMBER, cookies=COOKIE_PATH):\n",
        "  print(post)\n",
        "  post_list.append(post)\n",
        "  COUNT += 1\n",
        "  if COUNT >= PAGES_NUMBER:\n",
        "    break"
      ],
      "metadata": {
        "id": "5J7ByzMAOLUq"
      },
      "execution_count": null,
      "outputs": []
    },
    {
      "cell_type": "code",
      "source": [
        "# Initialize dataframe to scrape Facebook post\n",
        "post_df_full = pd.DataFrame(columns=post_list[0].keys(), index=range(len(post_list)), data=post_list)\n",
        "\n",
        "# To df\n",
        "path=FOLDER_PATH + FANPAGE_LINK + \".csv\"\n",
        "post_df_full.to_csv(path, index=False)\n",
        "print(path)"
      ],
      "metadata": {
        "id": "YaICchMaOMr-"
      },
      "execution_count": null,
      "outputs": []
    }
  ]
}